{
 "cells": [
  {
   "cell_type": "code",
   "execution_count": 1,
   "metadata": {
    "collapsed": false
   },
   "outputs": [
    {
     "data": {
      "text/plain": [
       "'this is a multiple\\nline comment'"
      ]
     },
     "execution_count": 1,
     "metadata": {},
     "output_type": "execute_result"
    }
   ],
   "source": [
    "# this is a comment\n",
    "\n",
    "\"\"\"this is a multiple\n",
    "line comment\"\"\""
   ]
  },
  {
   "cell_type": "code",
   "execution_count": 2,
   "metadata": {
    "collapsed": false
   },
   "outputs": [
    {
     "name": "stdout",
     "output_type": "stream",
     "text": [
      "Variable type examples:\n",
      "<class 'int'>\n",
      "<class 'int'>\n",
      "<class 'float'>\n",
      "<class 'bool'>\n"
     ]
    }
   ],
   "source": [
    "# ============================================\n",
    "# Variables Example\n",
    "int_val = 8\n",
    "long_val = 23423423235\n",
    "float_val = 2.0\n",
    "bool_val = True\n",
    "\n",
    "print (\"Variable type examples:\")\n",
    "print (type(int_val))\n",
    "print (type(long_val))\n",
    "print (type(float_val))\n",
    "print (type(bool_val))"
   ]
  },
  {
   "cell_type": "code",
   "execution_count": 3,
   "metadata": {
    "collapsed": false
   },
   "outputs": [
    {
     "name": "stdout",
     "output_type": "stream",
     "text": [
      "\n",
      "Arithmetic examples:\n",
      "2.6666666666666665\n",
      "2.6666666666666665\n",
      "2.6666666666666665\n",
      "False\n",
      "False\n"
     ]
    }
   ],
   "source": [
    "#============================================\n",
    "# Arithmetic and casting\n",
    "print (\"\\nArithmetic examples:\")\n",
    "print (8 / 3)\n",
    "print (float(8) / 3)\n",
    "print (float(8) / float(3))\n",
    "\n",
    "print (True and False)\n",
    "print (8 == 3)"
   ]
  },
  {
   "cell_type": "code",
   "execution_count": 4,
   "metadata": {
    "collapsed": false
   },
   "outputs": [
    {
     "name": "stdout",
     "output_type": "stream",
     "text": [
      "\n",
      "String example:\n",
      "A string is double or single quotes\n",
      "Three quote means that the string goes over\n",
      "multiple lines\n",
      "This also spans multiple lines but has no newline\n"
     ]
    }
   ],
   "source": [
    "#============================================\n",
    "# string example\n",
    "print (\"\\nString example:\")\n",
    "str_val = \"A string is double or single quotes\"\n",
    "str_val_long = '''Three quote means that the string goes over\n",
    "multiple lines'''\n",
    "str_val_no_newline = '''This also spans multiple lines \\\n",
    "but has no newline'''\n",
    "\n",
    "print (str_val)\n",
    "print (str_val_long)\n",
    "print (str_val_no_newline)"
   ]
  },
  {
   "cell_type": "code",
   "execution_count": 5,
   "metadata": {
    "collapsed": false
   },
   "outputs": [
    {
     "name": "stdout",
     "output_type": "stream",
     "text": [
      "\n",
      "for loop output:\n",
      "UbiComp <class 'str'>\n",
      "8 <class 'int'>\n",
      "23423423235 <class 'int'>\n",
      "2.0 <class 'float'>\n",
      "True <class 'bool'>\n"
     ]
    }
   ],
   "source": [
    "#============================================\n",
    "# for loop example with list\n",
    "print (\"\\nfor loop output:\")\n",
    "\n",
    "list_example = [int_val, long_val, float_val, bool_val]\n",
    "list_example.insert(0, \"UbiComp\")\n",
    "\n",
    "for val in list_example:\n",
    "    print (str(val) + ' ' + str(type(val)))"
   ]
  },
  {
   "cell_type": "code",
   "execution_count": 6,
   "metadata": {
    "collapsed": false
   },
   "outputs": [
    {
     "name": "stdout",
     "output_type": "stream",
     "text": [
      "\n",
      "Stack Example:\n",
      "['LIFO', 0, 1, 2, 3, 4]\n",
      "=============\n",
      "4\n",
      "=============\n",
      "['LIFO', 0, 1, 2, 3]\n",
      "=============\n"
     ]
    }
   ],
   "source": [
    "#============================================\n",
    "# array as a stack\n",
    "print (\"\\nStack Example:\")\n",
    "list_example = []\n",
    "list_example.append('LIFO')\n",
    "\n",
    "for i in range(0, 5):\n",
    "    list_example.append(i)\n",
    "\n",
    "print (list_example)\n",
    "print (\"=============\")\n",
    "val = list_example.pop()\n",
    "print (val)\n",
    "print (\"=============\")\n",
    "print (list_example)\n",
    "print (\"=============\")"
   ]
  },
  {
   "cell_type": "code",
   "execution_count": 7,
   "metadata": {
    "collapsed": false
   },
   "outputs": [
    {
     "name": "stdout",
     "output_type": "stream",
     "text": [
      "\n",
      "Queue Example:\n",
      "deque([9, 8, 7, 6, 5, 'FIFO'])\n",
      "=============\n",
      "FIFO\n",
      "=============\n",
      "deque([9, 8, 7, 6, 5])\n",
      "=============\n",
      "5\n",
      "6\n",
      "7\n",
      "8\n",
      "9\n"
     ]
    }
   ],
   "source": [
    "#============================================\n",
    "# array as a queue\n",
    "print (\"\\nQueue Example:\")\n",
    "from collections import deque\n",
    "\n",
    "q_example = deque()\n",
    "q_example.appendleft(\"FIFO\")\n",
    "for i in range(5, 10):\n",
    "    q_example.appendleft(i)\n",
    "\n",
    "print (q_example)\n",
    "print (\"=============\")\n",
    "val = q_example.pop()\n",
    "print (val)\n",
    "print (\"=============\")\n",
    "print (q_example)\n",
    "print (\"=============\")\n",
    "\n",
    "# pop and print each element\n",
    "while len(q_example) > 0:\n",
    "    print (q_example.pop())"
   ]
  },
  {
   "cell_type": "code",
   "execution_count": 8,
   "metadata": {
    "collapsed": false
   },
   "outputs": [
    {
     "name": "stdout",
     "output_type": "stream",
     "text": [
      "\n",
      "Conditional Example:\n",
      "a is true\n",
      "b is false\n"
     ]
    }
   ],
   "source": [
    "#============================================\n",
    "# conditional example\n",
    "print (\"\\nConditional Example:\")\n",
    "a, b = True, False\n",
    "\n",
    "if a:\n",
    "    print (\"a is true\")\n",
    "elif a or b:\n",
    "    print (\"b is true\")\n",
    "else:\n",
    "    print (\"neither a or b are true\")\n",
    "\n",
    "# conditional assignment\n",
    "val = \"b is true\" if b else \"b is false\"\n",
    "print (val)"
   ]
  },
  {
   "cell_type": "code",
   "execution_count": 9,
   "metadata": {
    "collapsed": false
   },
   "outputs": [
    {
     "name": "stdout",
     "output_type": "stream",
     "text": [
      "\n",
      "Function Example:\n",
      "upper case\n",
      "ubicomp\n"
     ]
    }
   ],
   "source": [
    "#============================================\n",
    "print (\"\\nFunction Example:\")\n",
    "# create and call a function\n",
    "# the function can be defined almost anywhere in file, as long as it is before it gets used\n",
    "def make_strings_lowercase(str_input):\n",
    "    assert isinstance(str_input, str)  # test the type of input\n",
    "    return str_input.lower()\n",
    "\n",
    "# now we are back on the main execution\n",
    "print (make_strings_lowercase(\"UPPER CASE\"))\n",
    "print (make_strings_lowercase(\"UbiComp\"))"
   ]
  },
  {
   "cell_type": "code",
   "execution_count": 10,
   "metadata": {
    "collapsed": false
   },
   "outputs": [
    {
     "data": {
      "image/png": "[encoded data removed]",
      "text/plain": [
       "<matplotlib.figure.Figure at 0x10eeab0b8>"
      ]
     },
     "metadata": {},
     "output_type": "display_data"
    }
   ],
   "source": [
    "#============================================\n",
    "# plotting example\n",
    "from matplotlib import pyplot as plt\n",
    "import numpy as np\n",
    "%matplotlib inline \n",
    "\n",
    "t = np.linspace(0, 1, 100)  # 100 equally spaced array of numbers from 0.0 to 1\n",
    "y = np.sin(2 * 3.14159 * t)  # take sine of the value\n",
    "\n",
    "plt.plot(t, y)  # plot them\n",
    "plt.show()"
   ]
  },
  {
   "cell_type": "code",
   "execution_count": null,
   "metadata": {
    "collapsed": true
   },
   "outputs": [],
   "source": []
  }
 ],
 "metadata": {
  "kernelspec": {
   "display_name": "Python 3",
   "language": "python",
   "name": "python3"
  },
  "language_info": {
   "codemirror_mode": {
    "name": "ipython",
    "version": 3
   },
   "file_extension": ".py",
   "mimetype": "text/x-python",
   "name": "python",
   "nbconvert_exporter": "python",
   "pygments_lexer": "ipython3",
   "version": "3.6.0"
  }
 },
 "nbformat": 4,
 "nbformat_minor": 0
}
